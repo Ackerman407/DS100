{
 "cells": [
  {
   "cell_type": "markdown",
   "metadata": {},
   "source": [
    "Name:\n",
    "\n",
    "Student Number:\n",
    "\n",
    "Course/Section:\n",
    "\n",
    "M1 Programming Exercise"
   ]
  },
  {
   "cell_type": "code",
   "execution_count": null,
   "metadata": {},
   "outputs": [],
   "source": [
    "import requests as rq\n",
    "from io import BytesIO\n",
    "\n",
    "import numpy as np\n",
    "import pandas as pd\n",
    "\n",
    "url = 'https://raw.githubusercontent.com/jammext/ds-repository/main/COVID19-Cases-Global.xlsx'\n",
    "dt = rq.get(url).content\n",
    "data = pd.read_excel(BytesIO(dt))\n",
    "pd.set_option('display.max_rows',None)\n",
    "data.head()"
   ]
  },
  {
   "cell_type": "code",
   "execution_count": null,
   "metadata": {},
   "outputs": [],
   "source": [
    "#selecting the Countries Australia and Zimbabwe only\n",
    "country_data = data.loc[data['country'].str.contains('Australia|Zimbabwe')]\n",
    "country_data.update(country_data[['total_cases','total_deaths']].fillna(0))\n",
    "country_data"
   ]
  },
  {
   "cell_type": "code",
   "execution_count": null,
   "metadata": {},
   "outputs": [],
   "source": [
    "country_data = country_data.loc[country_data['date'].str.contains('2020-02|2020-11')]\n",
    "country_data"
   ]
  },
  {
   "cell_type": "code",
   "execution_count": null,
   "metadata": {},
   "outputs": [],
   "source": [
    "country_data['CFR']= np.round(data['total_deaths']/data['total_cases']*100,3)\n",
    "country_data.update(country_data[['CFR']].fillna(0))\n",
    "country_data"
   ]
  },
  {
   "cell_type": "code",
   "execution_count": null,
   "metadata": {},
   "outputs": [],
   "source": [
    "df1=country_data.loc[country_data['country'].str.contains('Australia')]\n",
    "df2=country_data.loc[country_data['country'].str.contains('Zimbabwe')]\n",
    "df1=(df1.rename(columns={'country': 'country1','CFR':'CFR1'}))\n",
    "df2=(df2.rename(columns={'country': 'country2','CFR':'CFR2'}))\n",
    "df1=df1.drop(columns=['total_cases','daily_new_cases','total_deaths','daily_new_deaths'])\n",
    "df2=df2.drop(columns=['total_cases','daily_new_cases','total_deaths','daily_new_deaths'])\n",
    "abs_data=pd.merge(df1,df2)\n",
    "abs_data[['date','country1','CFR1','country2','CFR2']]"
   ]
  },
  {
   "cell_type": "code",
   "execution_count": null,
   "metadata": {},
   "outputs": [],
   "source": [
    "abs_data['Abs. Diff.']=np.round(abs(abs_data['CFR1']-abs_data['CFR2']),3)\n",
    "abs_data[['date','country1','CFR1','country2','CFR2','Abs. Diff.']]"
   ]
  },
  {
   "cell_type": "markdown",
   "metadata": {},
   "source": [
    "Discuss the dataset that you have used for the programming exercise. Describe what kind of data processing you have made.\n",
    "\n",
    "You may also want to discuss the significant features that can be observed in the dataset."
   ]
  },
  {
   "cell_type": "markdown",
   "metadata": {},
   "source": [
    "Name:\n",
    "\n",
    "Student Number: "
   ]
  },
  {
   "cell_type": "code",
   "execution_count": null,
   "metadata": {},
   "outputs": [],
   "source": []
  }
 ],
 "metadata": {
  "kernelspec": {
   "display_name": "Python 3 (ipykernel)",
   "language": "python",
   "name": "python3"
  },
  "language_info": {
   "codemirror_mode": {
    "name": "ipython",
    "version": 3
   },
   "file_extension": ".py",
   "mimetype": "text/x-python",
   "name": "python",
   "nbconvert_exporter": "python",
   "pygments_lexer": "ipython3",
   "version": "3.11.7"
  }
 },
 "nbformat": 4,
 "nbformat_minor": 4
}
